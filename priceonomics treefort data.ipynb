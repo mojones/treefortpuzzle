{
 "cells": [
  {
   "cell_type": "code",
   "execution_count": 1,
   "metadata": {
    "collapsed": true
   },
   "outputs": [],
   "source": [
    "from __future__ import division"
   ]
  },
  {
   "cell_type": "code",
   "execution_count": 471,
   "metadata": {
    "collapsed": false
   },
   "outputs": [],
   "source": [
    "import pandas as pd\n",
    "import pandas_profiling\n",
    "\n",
    "import seaborn as sns\n",
    "import matplotlib.pyplot as plt\n",
    "\n",
    "%matplotlib inline"
   ]
  },
  {
   "cell_type": "code",
   "execution_count": 470,
   "metadata": {
    "collapsed": true
   },
   "outputs": [],
   "source": [
    "# read the csv file as a dataframe\n",
    "df = pd.read_csv(\"Data+for+TreefortBnB+Puzzle.csv\")"
   ]
  },
  {
   "cell_type": "code",
   "execution_count": 472,
   "metadata": {
    "collapsed": false
   },
   "outputs": [
    {
     "data": {
      "text/html": [
       "<div>\n",
       "<table border=\"1\" class=\"dataframe\">\n",
       "  <thead>\n",
       "    <tr style=\"text-align: right;\">\n",
       "      <th></th>\n",
       "      <th>Unique id</th>\n",
       "      <th>City</th>\n",
       "      <th>State</th>\n",
       "      <th>$ Price</th>\n",
       "      <th># of Reviews</th>\n",
       "    </tr>\n",
       "  </thead>\n",
       "  <tbody>\n",
       "    <tr>\n",
       "      <th>0</th>\n",
       "      <td>1</td>\n",
       "      <td>Portland</td>\n",
       "      <td>OR</td>\n",
       "      <td>75</td>\n",
       "      <td>5</td>\n",
       "    </tr>\n",
       "    <tr>\n",
       "      <th>1</th>\n",
       "      <td>2</td>\n",
       "      <td>San Diego</td>\n",
       "      <td>CA</td>\n",
       "      <td>95</td>\n",
       "      <td>3</td>\n",
       "    </tr>\n",
       "    <tr>\n",
       "      <th>2</th>\n",
       "      <td>3</td>\n",
       "      <td>New York</td>\n",
       "      <td>NY</td>\n",
       "      <td>149</td>\n",
       "      <td>37</td>\n",
       "    </tr>\n",
       "    <tr>\n",
       "      <th>3</th>\n",
       "      <td>4</td>\n",
       "      <td>Los Angeles</td>\n",
       "      <td>CA</td>\n",
       "      <td>199</td>\n",
       "      <td>45</td>\n",
       "    </tr>\n",
       "    <tr>\n",
       "      <th>4</th>\n",
       "      <td>5</td>\n",
       "      <td>Denver</td>\n",
       "      <td>CO</td>\n",
       "      <td>56</td>\n",
       "      <td>99</td>\n",
       "    </tr>\n",
       "  </tbody>\n",
       "</table>\n",
       "</div>"
      ],
      "text/plain": [
       "   Unique id         City State  $ Price  # of Reviews\n",
       "0          1     Portland    OR       75             5\n",
       "1          2    San Diego    CA       95             3\n",
       "2          3     New York    NY      149            37\n",
       "3          4  Los Angeles    CA      199            45\n",
       "4          5       Denver    CO       56            99"
      ]
     },
     "execution_count": 472,
     "metadata": {},
     "output_type": "execute_result"
    }
   ],
   "source": [
    "# take a quick look at the first few rows to check that everything looks OK\n",
    "df.head()"
   ]
  },
  {
   "cell_type": "code",
   "execution_count": 473,
   "metadata": {
    "collapsed": false
   },
   "outputs": [
    {
     "name": "stdout",
     "output_type": "stream",
     "text": [
      "0\n"
     ]
    }
   ],
   "source": [
    "# some sanity checks, these should all print zero\n",
    "\n",
    "# how many rows have a state that isn't exactly two letters?\n",
    "print(len(df[df.apply(lambda x : len(x['State']) != 2, axis=1)]))"
   ]
  },
  {
   "cell_type": "code",
   "execution_count": 474,
   "metadata": {
    "collapsed": false
   },
   "outputs": [
    {
     "name": "stdout",
     "output_type": "stream",
     "text": [
      "2\n"
     ]
    }
   ],
   "source": [
    "# how many rows have a city that doesn't start with a capital letter?\n",
    "print(len(df[df.apply(lambda x : x['City'][0].islower(), axis=1)]))"
   ]
  },
  {
   "cell_type": "code",
   "execution_count": 475,
   "metadata": {
    "collapsed": false
   },
   "outputs": [
    {
     "data": {
      "text/html": [
       "<div>\n",
       "<table border=\"1\" class=\"dataframe\">\n",
       "  <thead>\n",
       "    <tr style=\"text-align: right;\">\n",
       "      <th></th>\n",
       "      <th>Unique id</th>\n",
       "      <th>City</th>\n",
       "      <th>State</th>\n",
       "      <th>$ Price</th>\n",
       "      <th># of Reviews</th>\n",
       "    </tr>\n",
       "  </thead>\n",
       "  <tbody>\n",
       "    <tr>\n",
       "      <th>33811</th>\n",
       "      <td>33812</td>\n",
       "      <td>miami</td>\n",
       "      <td>FL</td>\n",
       "      <td>275</td>\n",
       "      <td>0</td>\n",
       "    </tr>\n",
       "    <tr>\n",
       "      <th>42605</th>\n",
       "      <td>42606</td>\n",
       "      <td>new york</td>\n",
       "      <td>NY</td>\n",
       "      <td>187</td>\n",
       "      <td>0</td>\n",
       "    </tr>\n",
       "  </tbody>\n",
       "</table>\n",
       "</div>"
      ],
      "text/plain": [
       "       Unique id      City State  $ Price  # of Reviews\n",
       "33811      33812     miami    FL      275             0\n",
       "42605      42606  new york    NY      187             0"
      ]
     },
     "execution_count": 475,
     "metadata": {},
     "output_type": "execute_result"
    }
   ],
   "source": [
    "# oh dear, let's find the offending cities\n",
    "df[df.apply(lambda x : x['City'][0].islower(), axis=1)]"
   ]
  },
  {
   "cell_type": "code",
   "execution_count": 476,
   "metadata": {
    "collapsed": true
   },
   "outputs": [],
   "source": [
    "# and fix them\n",
    "df.loc[df['City'] == 'miami', 'City'] = 'Miami'\n",
    "df.loc[df['City'] == 'new york', 'City'] = 'New York'"
   ]
  },
  {
   "cell_type": "code",
   "execution_count": 477,
   "metadata": {
    "collapsed": false
   },
   "outputs": [
    {
     "data": {
      "text/html": [
       "<div>\n",
       "<table border=\"1\" class=\"dataframe\">\n",
       "  <thead>\n",
       "    <tr style=\"text-align: right;\">\n",
       "      <th></th>\n",
       "      <th>Unique id</th>\n",
       "      <th>City</th>\n",
       "      <th>State</th>\n",
       "      <th>$ Price</th>\n",
       "      <th># of Reviews</th>\n",
       "    </tr>\n",
       "  </thead>\n",
       "  <tbody>\n",
       "    <tr>\n",
       "      <th>5891</th>\n",
       "      <td>5892</td>\n",
       "      <td>LONG ISLAND CITY</td>\n",
       "      <td>NY</td>\n",
       "      <td>115</td>\n",
       "      <td>3</td>\n",
       "    </tr>\n",
       "  </tbody>\n",
       "</table>\n",
       "</div>"
      ],
      "text/plain": [
       "      Unique id              City State  $ Price  # of Reviews\n",
       "5891       5892  LONG ISLAND CITY    NY      115             3"
      ]
     },
     "execution_count": 477,
     "metadata": {},
     "output_type": "execute_result"
    }
   ],
   "source": [
    "# are there any cities that are \"accidentally\" in uppercase too?\n",
    "df[df.apply(lambda x : x['City'].isupper(), axis=1)]"
   ]
  },
  {
   "cell_type": "code",
   "execution_count": 478,
   "metadata": {
    "collapsed": true
   },
   "outputs": [],
   "source": [
    "# fix it\n",
    "df.loc[df['City'] == 'LONG ISLAND CITY', 'City'] = 'Long Island City'"
   ]
  },
  {
   "cell_type": "code",
   "execution_count": 479,
   "metadata": {
    "collapsed": false
   },
   "outputs": [
    {
     "name": "stdout",
     "output_type": "stream",
     "text": [
      "103\n",
      "125\n"
     ]
    }
   ],
   "source": [
    "# I'm going to assume up front that cities won't be unique i.e. we'll have the same city name in different states, so let's create a combined column\n",
    "df['city_name'] = df.apply(lambda x : x['City'] + ', ' + x['State'], axis=1)\n",
    "\n",
    "# just out of interest, how many unique city names are there?\n",
    "print(df['City'].nunique())\n",
    "\n",
    "# and how many actual cities?\n",
    "print(df['city_name'].nunique())\n",
    "\n",
    "# quite a few more :-)"
   ]
  },
  {
   "cell_type": "code",
   "execution_count": 498,
   "metadata": {
    "collapsed": false
   },
   "outputs": [
    {
     "data": {
      "text/plain": [
       "New York, NY         8044\n",
       "Brooklyn, NY         4368\n",
       "San Francisco, CA    3622\n",
       "Los Angeles, CA      3236\n",
       "Austin, TX           2836\n",
       "Washington, DC       1402\n",
       "Miami Beach, FL      1345\n",
       "Chicago, IL          1255\n",
       "San Diego, CA         986\n",
       "New Orleans, LA       833\n",
       "Name: city_name, dtype: int64"
      ]
     },
     "execution_count": 498,
     "metadata": {},
     "output_type": "execute_result"
    }
   ],
   "source": [
    "# OK, first let's get the 100 top cities\n",
    "\n",
    "# count how many times each city appears in the table\n",
    "city_counts = df['city_name'].value_counts()\n",
    "\n",
    "# grab the names of the cities and turn into a list of strings\n",
    "top_100_cities = list(city_counts[0:100].index)\n",
    "\n",
    "# look at the top ten cities\n",
    "city_counts[:10]"
   ]
  },
  {
   "cell_type": "code",
   "execution_count": 499,
   "metadata": {
    "collapsed": false
   },
   "outputs": [
    {
     "data": {
      "text/plain": [
       "Durham, CA        1\n",
       "Richmond, IL      1\n",
       "Paris, TX         1\n",
       "Hollywood, SC     1\n",
       "Berkeley, CO      1\n",
       "Richmond, TX      1\n",
       "Long Beach, NJ    1\n",
       "Madison, CT       1\n",
       "Phoenix, MD       1\n",
       "Pasadena, MD      1\n",
       "Oakland, MD       1\n",
       "Dallas, OR        1\n",
       "Name: city_name, dtype: int64"
      ]
     },
     "execution_count": 499,
     "metadata": {},
     "output_type": "execute_result"
    }
   ],
   "source": [
    "# the cities that only have one listing are automatically suspect, so let's check the names manually\n",
    "city_counts[city_counts == 1]"
   ]
  },
  {
   "cell_type": "code",
   "execution_count": 500,
   "metadata": {
    "collapsed": false
   },
   "outputs": [
    {
     "data": {
      "text/plain": [
       "<matplotlib.axes._subplots.AxesSubplot at 0x7f8ea15878d0>"
      ]
     },
     "execution_count": 500,
     "metadata": {},
     "output_type": "execute_result"
    },
    {
     "data": {
      "image/png": "[encoded data removed]",
      "text/plain": [
       "<matplotlib.figure.Figure at 0x7f8e9e2e6950>"
      ]
     },
     "metadata": {},
     "output_type": "display_data"
    }
   ],
   "source": [
    "# look at a quick histogram of number of listings\n",
    "c = city_counts.to_frame(name='listings')\n",
    "c['city_name'] = c.index\n",
    "sns.distplot(c['listings'])\n",
    "\n",
    "# long-tailed, as we'd expect"
   ]
  },
  {
   "cell_type": "code",
   "execution_count": 505,
   "metadata": {
    "collapsed": false
   },
   "outputs": [
    {
     "data": {
      "text/plain": [
       "<seaborn.axisgrid.JointGrid at 0x7f8e9e0e83d0>"
      ]
     },
     "execution_count": 505,
     "metadata": {},
     "output_type": "execute_result"
    },
    {
     "data": {
      "image/png": "[encoded data removed]",
      "text/plain": [
       "<matplotlib.figure.Figure at 0x7f8e9ddb47d0>"
      ]
     },
     "metadata": {},
     "output_type": "display_data"
    }
   ],
   "source": [
    "# now filter the table to include just the top 100 cities\n",
    "just_top_100 = df[df['city_name'].isin(top_100_cities)]\n",
    "\n",
    "# group the original data by city, grab the price, and calculate the median\n",
    "median_prices = just_top_100.groupby('city_name', as_index=False).median()[['city_name', '$ Price']]\n",
    "\n",
    "# it would be good to also know the number of listings\n",
    "number_of_listings = just_top_100.groupby('city_name', as_index=False).count()[['city_name', 'City']]\n",
    "number_of_listings.columns = ['city_name', '# of Listings']\n",
    "\n",
    "# join these two columns together and sort high -> low and output csv\n",
    "median_prices.sort_values('$ Price', ascending=False).to_csv(\"medians.csv\", index = False)\n",
    "\n",
    "# let's take a look at the data\n",
    "city_data = number_of_listings.merge(median_prices, on=\"city_name\").sort_values('$ Price', ascending=False)\n",
    "\n",
    "# take a quick look at the joint distribution\n",
    "# no strong correlation between number of listings and median price\n",
    "sns.jointplot(x=\"# of Listings\", y=\"$ Price\", data=city_data)"
   ]
  },
  {
   "cell_type": "code",
   "execution_count": 506,
   "metadata": {
    "collapsed": false
   },
   "outputs": [
    {
     "data": {
      "text/html": [
       "<div>\n",
       "<table border=\"1\" class=\"dataframe\">\n",
       "  <thead>\n",
       "    <tr style=\"text-align: right;\">\n",
       "      <th></th>\n",
       "      <th>city_name</th>\n",
       "      <th># of Listings</th>\n",
       "      <th>$ Price</th>\n",
       "    </tr>\n",
       "  </thead>\n",
       "  <tbody>\n",
       "    <tr>\n",
       "      <th>35</th>\n",
       "      <td>Indianapolis, IN</td>\n",
       "      <td>251</td>\n",
       "      <td>650.0</td>\n",
       "    </tr>\n",
       "    <tr>\n",
       "      <th>46</th>\n",
       "      <td>Malibu, CA</td>\n",
       "      <td>92</td>\n",
       "      <td>304.0</td>\n",
       "    </tr>\n",
       "    <tr>\n",
       "      <th>65</th>\n",
       "      <td>Park City, UT</td>\n",
       "      <td>229</td>\n",
       "      <td>299.0</td>\n",
       "    </tr>\n",
       "    <tr>\n",
       "      <th>29</th>\n",
       "      <td>Healdsburg, CA</td>\n",
       "      <td>49</td>\n",
       "      <td>275.0</td>\n",
       "    </tr>\n",
       "    <tr>\n",
       "      <th>95</th>\n",
       "      <td>Truckee, NV</td>\n",
       "      <td>67</td>\n",
       "      <td>275.0</td>\n",
       "    </tr>\n",
       "    <tr>\n",
       "      <th>39</th>\n",
       "      <td>Laguna Beach, CA</td>\n",
       "      <td>68</td>\n",
       "      <td>268.5</td>\n",
       "    </tr>\n",
       "    <tr>\n",
       "      <th>34</th>\n",
       "      <td>Incline Village, NV</td>\n",
       "      <td>118</td>\n",
       "      <td>259.0</td>\n",
       "    </tr>\n",
       "    <tr>\n",
       "      <th>47</th>\n",
       "      <td>Manhattan Beach, CA</td>\n",
       "      <td>55</td>\n",
       "      <td>209.0</td>\n",
       "    </tr>\n",
       "    <tr>\n",
       "      <th>18</th>\n",
       "      <td>Charlotte, NC</td>\n",
       "      <td>225</td>\n",
       "      <td>200.0</td>\n",
       "    </tr>\n",
       "    <tr>\n",
       "      <th>91</th>\n",
       "      <td>Sonoma, CA</td>\n",
       "      <td>115</td>\n",
       "      <td>200.0</td>\n",
       "    </tr>\n",
       "  </tbody>\n",
       "</table>\n",
       "</div>"
      ],
      "text/plain": [
       "              city_name  # of Listings  $ Price\n",
       "35     Indianapolis, IN            251    650.0\n",
       "46           Malibu, CA             92    304.0\n",
       "65        Park City, UT            229    299.0\n",
       "29       Healdsburg, CA             49    275.0\n",
       "95          Truckee, NV             67    275.0\n",
       "39     Laguna Beach, CA             68    268.5\n",
       "34  Incline Village, NV            118    259.0\n",
       "47  Manhattan Beach, CA             55    209.0\n",
       "18        Charlotte, NC            225    200.0\n",
       "91           Sonoma, CA            115    200.0"
      ]
     },
     "execution_count": 506,
     "metadata": {},
     "output_type": "execute_result"
    }
   ],
   "source": [
    "# hmm, one very obvious outlier in price. look at the most expensive\n",
    "city_data[:10]"
   ]
  },
  {
   "cell_type": "code",
   "execution_count": 513,
   "metadata": {
    "collapsed": false
   },
   "outputs": [
    {
     "data": {
      "text/plain": [
       "<seaborn.axisgrid.JointGrid at 0x7f8e9d373490>"
      ]
     },
     "execution_count": 513,
     "metadata": {},
     "output_type": "execute_result"
    },
    {
     "data": {
      "image/png": "[encoded data removed]",
      "text/plain": [
       "<matplotlib.figure.Figure at 0x7f8e9d4f9090>"
      ]
     },
     "metadata": {},
     "output_type": "display_data"
    }
   ],
   "source": [
    "# hmm, Indianapolis definitely looks like an outlier, let's take a look at the original data\n",
    "just_indianapolis = df[df['city_name'] == 'Indianapolis, IN']\n",
    "sns.jointplot(x=\"$ Price\", y=\"# of Reviews\", data=just_indianapolis)"
   ]
  },
  {
   "cell_type": "code",
   "execution_count": 516,
   "metadata": {
    "collapsed": false
   },
   "outputs": [
    {
     "data": {
      "text/html": [
       "<div>\n",
       "<table border=\"1\" class=\"dataframe\">\n",
       "  <thead>\n",
       "    <tr style=\"text-align: right;\">\n",
       "      <th></th>\n",
       "      <th>Unique id</th>\n",
       "      <th>City</th>\n",
       "      <th>State</th>\n",
       "      <th>$ Price</th>\n",
       "      <th># of Reviews</th>\n",
       "      <th>city_name</th>\n",
       "    </tr>\n",
       "  </thead>\n",
       "  <tbody>\n",
       "    <tr>\n",
       "      <th>8638</th>\n",
       "      <td>8639</td>\n",
       "      <td>Indianapolis</td>\n",
       "      <td>IN</td>\n",
       "      <td>5500</td>\n",
       "      <td>0</td>\n",
       "      <td>Indianapolis, IN</td>\n",
       "    </tr>\n",
       "    <tr>\n",
       "      <th>8856</th>\n",
       "      <td>8857</td>\n",
       "      <td>Indianapolis</td>\n",
       "      <td>IN</td>\n",
       "      <td>5000</td>\n",
       "      <td>0</td>\n",
       "      <td>Indianapolis, IN</td>\n",
       "    </tr>\n",
       "    <tr>\n",
       "      <th>9282</th>\n",
       "      <td>9283</td>\n",
       "      <td>Indianapolis</td>\n",
       "      <td>IN</td>\n",
       "      <td>5000</td>\n",
       "      <td>0</td>\n",
       "      <td>Indianapolis, IN</td>\n",
       "    </tr>\n",
       "    <tr>\n",
       "      <th>8674</th>\n",
       "      <td>8675</td>\n",
       "      <td>Indianapolis</td>\n",
       "      <td>IN</td>\n",
       "      <td>4500</td>\n",
       "      <td>0</td>\n",
       "      <td>Indianapolis, IN</td>\n",
       "    </tr>\n",
       "    <tr>\n",
       "      <th>9214</th>\n",
       "      <td>9215</td>\n",
       "      <td>Indianapolis</td>\n",
       "      <td>IN</td>\n",
       "      <td>4000</td>\n",
       "      <td>0</td>\n",
       "      <td>Indianapolis, IN</td>\n",
       "    </tr>\n",
       "    <tr>\n",
       "      <th>9204</th>\n",
       "      <td>9205</td>\n",
       "      <td>Indianapolis</td>\n",
       "      <td>IN</td>\n",
       "      <td>4000</td>\n",
       "      <td>0</td>\n",
       "      <td>Indianapolis, IN</td>\n",
       "    </tr>\n",
       "    <tr>\n",
       "      <th>8807</th>\n",
       "      <td>8808</td>\n",
       "      <td>Indianapolis</td>\n",
       "      <td>IN</td>\n",
       "      <td>3999</td>\n",
       "      <td>0</td>\n",
       "      <td>Indianapolis, IN</td>\n",
       "    </tr>\n",
       "    <tr>\n",
       "      <th>9443</th>\n",
       "      <td>9444</td>\n",
       "      <td>Indianapolis</td>\n",
       "      <td>IN</td>\n",
       "      <td>3900</td>\n",
       "      <td>0</td>\n",
       "      <td>Indianapolis, IN</td>\n",
       "    </tr>\n",
       "    <tr>\n",
       "      <th>6332</th>\n",
       "      <td>6333</td>\n",
       "      <td>Indianapolis</td>\n",
       "      <td>IN</td>\n",
       "      <td>3500</td>\n",
       "      <td>0</td>\n",
       "      <td>Indianapolis, IN</td>\n",
       "    </tr>\n",
       "    <tr>\n",
       "      <th>9279</th>\n",
       "      <td>9280</td>\n",
       "      <td>Indianapolis</td>\n",
       "      <td>IN</td>\n",
       "      <td>3500</td>\n",
       "      <td>0</td>\n",
       "      <td>Indianapolis, IN</td>\n",
       "    </tr>\n",
       "    <tr>\n",
       "      <th>8179</th>\n",
       "      <td>8180</td>\n",
       "      <td>Indianapolis</td>\n",
       "      <td>IN</td>\n",
       "      <td>3000</td>\n",
       "      <td>0</td>\n",
       "      <td>Indianapolis, IN</td>\n",
       "    </tr>\n",
       "    <tr>\n",
       "      <th>9023</th>\n",
       "      <td>9024</td>\n",
       "      <td>Indianapolis</td>\n",
       "      <td>IN</td>\n",
       "      <td>3000</td>\n",
       "      <td>0</td>\n",
       "      <td>Indianapolis, IN</td>\n",
       "    </tr>\n",
       "    <tr>\n",
       "      <th>8683</th>\n",
       "      <td>8684</td>\n",
       "      <td>Indianapolis</td>\n",
       "      <td>IN</td>\n",
       "      <td>2650</td>\n",
       "      <td>0</td>\n",
       "      <td>Indianapolis, IN</td>\n",
       "    </tr>\n",
       "    <tr>\n",
       "      <th>9317</th>\n",
       "      <td>9318</td>\n",
       "      <td>Indianapolis</td>\n",
       "      <td>IN</td>\n",
       "      <td>2600</td>\n",
       "      <td>0</td>\n",
       "      <td>Indianapolis, IN</td>\n",
       "    </tr>\n",
       "    <tr>\n",
       "      <th>9294</th>\n",
       "      <td>9295</td>\n",
       "      <td>Indianapolis</td>\n",
       "      <td>IN</td>\n",
       "      <td>2500</td>\n",
       "      <td>0</td>\n",
       "      <td>Indianapolis, IN</td>\n",
       "    </tr>\n",
       "    <tr>\n",
       "      <th>8689</th>\n",
       "      <td>8690</td>\n",
       "      <td>Indianapolis</td>\n",
       "      <td>IN</td>\n",
       "      <td>2500</td>\n",
       "      <td>0</td>\n",
       "      <td>Indianapolis, IN</td>\n",
       "    </tr>\n",
       "    <tr>\n",
       "      <th>8666</th>\n",
       "      <td>8667</td>\n",
       "      <td>Indianapolis</td>\n",
       "      <td>IN</td>\n",
       "      <td>2500</td>\n",
       "      <td>0</td>\n",
       "      <td>Indianapolis, IN</td>\n",
       "    </tr>\n",
       "    <tr>\n",
       "      <th>9089</th>\n",
       "      <td>9090</td>\n",
       "      <td>Indianapolis</td>\n",
       "      <td>IN</td>\n",
       "      <td>2500</td>\n",
       "      <td>0</td>\n",
       "      <td>Indianapolis, IN</td>\n",
       "    </tr>\n",
       "    <tr>\n",
       "      <th>9200</th>\n",
       "      <td>9201</td>\n",
       "      <td>Indianapolis</td>\n",
       "      <td>IN</td>\n",
       "      <td>2250</td>\n",
       "      <td>0</td>\n",
       "      <td>Indianapolis, IN</td>\n",
       "    </tr>\n",
       "    <tr>\n",
       "      <th>8940</th>\n",
       "      <td>8941</td>\n",
       "      <td>Indianapolis</td>\n",
       "      <td>IN</td>\n",
       "      <td>2250</td>\n",
       "      <td>0</td>\n",
       "      <td>Indianapolis, IN</td>\n",
       "    </tr>\n",
       "    <tr>\n",
       "      <th>8711</th>\n",
       "      <td>8712</td>\n",
       "      <td>Indianapolis</td>\n",
       "      <td>IN</td>\n",
       "      <td>2000</td>\n",
       "      <td>0</td>\n",
       "      <td>Indianapolis, IN</td>\n",
       "    </tr>\n",
       "    <tr>\n",
       "      <th>9164</th>\n",
       "      <td>9165</td>\n",
       "      <td>Indianapolis</td>\n",
       "      <td>IN</td>\n",
       "      <td>2000</td>\n",
       "      <td>0</td>\n",
       "      <td>Indianapolis, IN</td>\n",
       "    </tr>\n",
       "    <tr>\n",
       "      <th>9141</th>\n",
       "      <td>9142</td>\n",
       "      <td>Indianapolis</td>\n",
       "      <td>IN</td>\n",
       "      <td>2000</td>\n",
       "      <td>0</td>\n",
       "      <td>Indianapolis, IN</td>\n",
       "    </tr>\n",
       "    <tr>\n",
       "      <th>9270</th>\n",
       "      <td>9271</td>\n",
       "      <td>Indianapolis</td>\n",
       "      <td>IN</td>\n",
       "      <td>2000</td>\n",
       "      <td>0</td>\n",
       "      <td>Indianapolis, IN</td>\n",
       "    </tr>\n",
       "    <tr>\n",
       "      <th>8740</th>\n",
       "      <td>8741</td>\n",
       "      <td>Indianapolis</td>\n",
       "      <td>IN</td>\n",
       "      <td>2000</td>\n",
       "      <td>0</td>\n",
       "      <td>Indianapolis, IN</td>\n",
       "    </tr>\n",
       "    <tr>\n",
       "      <th>9286</th>\n",
       "      <td>9287</td>\n",
       "      <td>Indianapolis</td>\n",
       "      <td>IN</td>\n",
       "      <td>2000</td>\n",
       "      <td>0</td>\n",
       "      <td>Indianapolis, IN</td>\n",
       "    </tr>\n",
       "    <tr>\n",
       "      <th>9309</th>\n",
       "      <td>9310</td>\n",
       "      <td>Indianapolis</td>\n",
       "      <td>IN</td>\n",
       "      <td>2000</td>\n",
       "      <td>0</td>\n",
       "      <td>Indianapolis, IN</td>\n",
       "    </tr>\n",
       "    <tr>\n",
       "      <th>8753</th>\n",
       "      <td>8754</td>\n",
       "      <td>Indianapolis</td>\n",
       "      <td>IN</td>\n",
       "      <td>2000</td>\n",
       "      <td>0</td>\n",
       "      <td>Indianapolis, IN</td>\n",
       "    </tr>\n",
       "    <tr>\n",
       "      <th>9420</th>\n",
       "      <td>9421</td>\n",
       "      <td>Indianapolis</td>\n",
       "      <td>IN</td>\n",
       "      <td>2000</td>\n",
       "      <td>0</td>\n",
       "      <td>Indianapolis, IN</td>\n",
       "    </tr>\n",
       "    <tr>\n",
       "      <th>8624</th>\n",
       "      <td>8625</td>\n",
       "      <td>Indianapolis</td>\n",
       "      <td>IN</td>\n",
       "      <td>2000</td>\n",
       "      <td>0</td>\n",
       "      <td>Indianapolis, IN</td>\n",
       "    </tr>\n",
       "    <tr>\n",
       "      <th>...</th>\n",
       "      <td>...</td>\n",
       "      <td>...</td>\n",
       "      <td>...</td>\n",
       "      <td>...</td>\n",
       "      <td>...</td>\n",
       "      <td>...</td>\n",
       "    </tr>\n",
       "    <tr>\n",
       "      <th>37791</th>\n",
       "      <td>37792</td>\n",
       "      <td>Indianapolis</td>\n",
       "      <td>IN</td>\n",
       "      <td>249</td>\n",
       "      <td>0</td>\n",
       "      <td>Indianapolis, IN</td>\n",
       "    </tr>\n",
       "    <tr>\n",
       "      <th>9467</th>\n",
       "      <td>9468</td>\n",
       "      <td>Indianapolis</td>\n",
       "      <td>IN</td>\n",
       "      <td>225</td>\n",
       "      <td>0</td>\n",
       "      <td>Indianapolis, IN</td>\n",
       "    </tr>\n",
       "    <tr>\n",
       "      <th>9523</th>\n",
       "      <td>9524</td>\n",
       "      <td>Indianapolis</td>\n",
       "      <td>IN</td>\n",
       "      <td>200</td>\n",
       "      <td>0</td>\n",
       "      <td>Indianapolis, IN</td>\n",
       "    </tr>\n",
       "    <tr>\n",
       "      <th>9300</th>\n",
       "      <td>9301</td>\n",
       "      <td>Indianapolis</td>\n",
       "      <td>IN</td>\n",
       "      <td>200</td>\n",
       "      <td>0</td>\n",
       "      <td>Indianapolis, IN</td>\n",
       "    </tr>\n",
       "    <tr>\n",
       "      <th>9370</th>\n",
       "      <td>9371</td>\n",
       "      <td>Indianapolis</td>\n",
       "      <td>IN</td>\n",
       "      <td>200</td>\n",
       "      <td>0</td>\n",
       "      <td>Indianapolis, IN</td>\n",
       "    </tr>\n",
       "    <tr>\n",
       "      <th>9005</th>\n",
       "      <td>9006</td>\n",
       "      <td>Indianapolis</td>\n",
       "      <td>IN</td>\n",
       "      <td>200</td>\n",
       "      <td>0</td>\n",
       "      <td>Indianapolis, IN</td>\n",
       "    </tr>\n",
       "    <tr>\n",
       "      <th>9281</th>\n",
       "      <td>9282</td>\n",
       "      <td>Indianapolis</td>\n",
       "      <td>IN</td>\n",
       "      <td>199</td>\n",
       "      <td>0</td>\n",
       "      <td>Indianapolis, IN</td>\n",
       "    </tr>\n",
       "    <tr>\n",
       "      <th>11843</th>\n",
       "      <td>11844</td>\n",
       "      <td>Indianapolis</td>\n",
       "      <td>IN</td>\n",
       "      <td>190</td>\n",
       "      <td>0</td>\n",
       "      <td>Indianapolis, IN</td>\n",
       "    </tr>\n",
       "    <tr>\n",
       "      <th>8860</th>\n",
       "      <td>8861</td>\n",
       "      <td>Indianapolis</td>\n",
       "      <td>IN</td>\n",
       "      <td>175</td>\n",
       "      <td>0</td>\n",
       "      <td>Indianapolis, IN</td>\n",
       "    </tr>\n",
       "    <tr>\n",
       "      <th>9448</th>\n",
       "      <td>9449</td>\n",
       "      <td>Indianapolis</td>\n",
       "      <td>IN</td>\n",
       "      <td>150</td>\n",
       "      <td>0</td>\n",
       "      <td>Indianapolis, IN</td>\n",
       "    </tr>\n",
       "    <tr>\n",
       "      <th>8750</th>\n",
       "      <td>8751</td>\n",
       "      <td>Indianapolis</td>\n",
       "      <td>IN</td>\n",
       "      <td>150</td>\n",
       "      <td>0</td>\n",
       "      <td>Indianapolis, IN</td>\n",
       "    </tr>\n",
       "    <tr>\n",
       "      <th>41833</th>\n",
       "      <td>41834</td>\n",
       "      <td>Indianapolis</td>\n",
       "      <td>IN</td>\n",
       "      <td>135</td>\n",
       "      <td>0</td>\n",
       "      <td>Indianapolis, IN</td>\n",
       "    </tr>\n",
       "    <tr>\n",
       "      <th>9196</th>\n",
       "      <td>9197</td>\n",
       "      <td>Indianapolis</td>\n",
       "      <td>IN</td>\n",
       "      <td>125</td>\n",
       "      <td>0</td>\n",
       "      <td>Indianapolis, IN</td>\n",
       "    </tr>\n",
       "    <tr>\n",
       "      <th>41524</th>\n",
       "      <td>41525</td>\n",
       "      <td>Indianapolis</td>\n",
       "      <td>IN</td>\n",
       "      <td>125</td>\n",
       "      <td>0</td>\n",
       "      <td>Indianapolis, IN</td>\n",
       "    </tr>\n",
       "    <tr>\n",
       "      <th>40353</th>\n",
       "      <td>40354</td>\n",
       "      <td>Indianapolis</td>\n",
       "      <td>IN</td>\n",
       "      <td>125</td>\n",
       "      <td>0</td>\n",
       "      <td>Indianapolis, IN</td>\n",
       "    </tr>\n",
       "    <tr>\n",
       "      <th>16326</th>\n",
       "      <td>16327</td>\n",
       "      <td>Indianapolis</td>\n",
       "      <td>IN</td>\n",
       "      <td>115</td>\n",
       "      <td>0</td>\n",
       "      <td>Indianapolis, IN</td>\n",
       "    </tr>\n",
       "    <tr>\n",
       "      <th>9276</th>\n",
       "      <td>9277</td>\n",
       "      <td>Indianapolis</td>\n",
       "      <td>IN</td>\n",
       "      <td>108</td>\n",
       "      <td>0</td>\n",
       "      <td>Indianapolis, IN</td>\n",
       "    </tr>\n",
       "    <tr>\n",
       "      <th>3624</th>\n",
       "      <td>3625</td>\n",
       "      <td>Indianapolis</td>\n",
       "      <td>IN</td>\n",
       "      <td>100</td>\n",
       "      <td>0</td>\n",
       "      <td>Indianapolis, IN</td>\n",
       "    </tr>\n",
       "    <tr>\n",
       "      <th>39933</th>\n",
       "      <td>39934</td>\n",
       "      <td>Indianapolis</td>\n",
       "      <td>IN</td>\n",
       "      <td>100</td>\n",
       "      <td>0</td>\n",
       "      <td>Indianapolis, IN</td>\n",
       "    </tr>\n",
       "    <tr>\n",
       "      <th>30130</th>\n",
       "      <td>30131</td>\n",
       "      <td>Indianapolis</td>\n",
       "      <td>IN</td>\n",
       "      <td>100</td>\n",
       "      <td>0</td>\n",
       "      <td>Indianapolis, IN</td>\n",
       "    </tr>\n",
       "    <tr>\n",
       "      <th>5666</th>\n",
       "      <td>5667</td>\n",
       "      <td>Indianapolis</td>\n",
       "      <td>IN</td>\n",
       "      <td>100</td>\n",
       "      <td>0</td>\n",
       "      <td>Indianapolis, IN</td>\n",
       "    </tr>\n",
       "    <tr>\n",
       "      <th>19428</th>\n",
       "      <td>19429</td>\n",
       "      <td>Indianapolis</td>\n",
       "      <td>IN</td>\n",
       "      <td>99</td>\n",
       "      <td>0</td>\n",
       "      <td>Indianapolis, IN</td>\n",
       "    </tr>\n",
       "    <tr>\n",
       "      <th>13549</th>\n",
       "      <td>13550</td>\n",
       "      <td>Indianapolis</td>\n",
       "      <td>IN</td>\n",
       "      <td>90</td>\n",
       "      <td>0</td>\n",
       "      <td>Indianapolis, IN</td>\n",
       "    </tr>\n",
       "    <tr>\n",
       "      <th>9398</th>\n",
       "      <td>9399</td>\n",
       "      <td>Indianapolis</td>\n",
       "      <td>IN</td>\n",
       "      <td>89</td>\n",
       "      <td>0</td>\n",
       "      <td>Indianapolis, IN</td>\n",
       "    </tr>\n",
       "    <tr>\n",
       "      <th>35435</th>\n",
       "      <td>35436</td>\n",
       "      <td>Indianapolis</td>\n",
       "      <td>IN</td>\n",
       "      <td>79</td>\n",
       "      <td>0</td>\n",
       "      <td>Indianapolis, IN</td>\n",
       "    </tr>\n",
       "    <tr>\n",
       "      <th>38285</th>\n",
       "      <td>38286</td>\n",
       "      <td>Indianapolis</td>\n",
       "      <td>IN</td>\n",
       "      <td>50</td>\n",
       "      <td>0</td>\n",
       "      <td>Indianapolis, IN</td>\n",
       "    </tr>\n",
       "    <tr>\n",
       "      <th>41088</th>\n",
       "      <td>41089</td>\n",
       "      <td>Indianapolis</td>\n",
       "      <td>IN</td>\n",
       "      <td>50</td>\n",
       "      <td>0</td>\n",
       "      <td>Indianapolis, IN</td>\n",
       "    </tr>\n",
       "    <tr>\n",
       "      <th>38257</th>\n",
       "      <td>38258</td>\n",
       "      <td>Indianapolis</td>\n",
       "      <td>IN</td>\n",
       "      <td>49</td>\n",
       "      <td>0</td>\n",
       "      <td>Indianapolis, IN</td>\n",
       "    </tr>\n",
       "    <tr>\n",
       "      <th>36444</th>\n",
       "      <td>36445</td>\n",
       "      <td>Indianapolis</td>\n",
       "      <td>IN</td>\n",
       "      <td>49</td>\n",
       "      <td>0</td>\n",
       "      <td>Indianapolis, IN</td>\n",
       "    </tr>\n",
       "    <tr>\n",
       "      <th>4613</th>\n",
       "      <td>4614</td>\n",
       "      <td>Indianapolis</td>\n",
       "      <td>IN</td>\n",
       "      <td>45</td>\n",
       "      <td>0</td>\n",
       "      <td>Indianapolis, IN</td>\n",
       "    </tr>\n",
       "  </tbody>\n",
       "</table>\n",
       "<p>194 rows × 6 columns</p>\n",
       "</div>"
      ],
      "text/plain": [
       "       Unique id          City State  $ Price  # of Reviews         city_name\n",
       "8638        8639  Indianapolis    IN     5500             0  Indianapolis, IN\n",
       "8856        8857  Indianapolis    IN     5000             0  Indianapolis, IN\n",
       "9282        9283  Indianapolis    IN     5000             0  Indianapolis, IN\n",
       "8674        8675  Indianapolis    IN     4500             0  Indianapolis, IN\n",
       "9214        9215  Indianapolis    IN     4000             0  Indianapolis, IN\n",
       "9204        9205  Indianapolis    IN     4000             0  Indianapolis, IN\n",
       "8807        8808  Indianapolis    IN     3999             0  Indianapolis, IN\n",
       "9443        9444  Indianapolis    IN     3900             0  Indianapolis, IN\n",
       "6332        6333  Indianapolis    IN     3500             0  Indianapolis, IN\n",
       "9279        9280  Indianapolis    IN     3500             0  Indianapolis, IN\n",
       "8179        8180  Indianapolis    IN     3000             0  Indianapolis, IN\n",
       "9023        9024  Indianapolis    IN     3000             0  Indianapolis, IN\n",
       "8683        8684  Indianapolis    IN     2650             0  Indianapolis, IN\n",
       "9317        9318  Indianapolis    IN     2600             0  Indianapolis, IN\n",
       "9294        9295  Indianapolis    IN     2500             0  Indianapolis, IN\n",
       "8689        8690  Indianapolis    IN     2500             0  Indianapolis, IN\n",
       "8666        8667  Indianapolis    IN     2500             0  Indianapolis, IN\n",
       "9089        9090  Indianapolis    IN     2500             0  Indianapolis, IN\n",
       "9200        9201  Indianapolis    IN     2250             0  Indianapolis, IN\n",
       "8940        8941  Indianapolis    IN     2250             0  Indianapolis, IN\n",
       "8711        8712  Indianapolis    IN     2000             0  Indianapolis, IN\n",
       "9164        9165  Indianapolis    IN     2000             0  Indianapolis, IN\n",
       "9141        9142  Indianapolis    IN     2000             0  Indianapolis, IN\n",
       "9270        9271  Indianapolis    IN     2000             0  Indianapolis, IN\n",
       "8740        8741  Indianapolis    IN     2000             0  Indianapolis, IN\n",
       "9286        9287  Indianapolis    IN     2000             0  Indianapolis, IN\n",
       "9309        9310  Indianapolis    IN     2000             0  Indianapolis, IN\n",
       "8753        8754  Indianapolis    IN     2000             0  Indianapolis, IN\n",
       "9420        9421  Indianapolis    IN     2000             0  Indianapolis, IN\n",
       "8624        8625  Indianapolis    IN     2000             0  Indianapolis, IN\n",
       "...          ...           ...   ...      ...           ...               ...\n",
       "37791      37792  Indianapolis    IN      249             0  Indianapolis, IN\n",
       "9467        9468  Indianapolis    IN      225             0  Indianapolis, IN\n",
       "9523        9524  Indianapolis    IN      200             0  Indianapolis, IN\n",
       "9300        9301  Indianapolis    IN      200             0  Indianapolis, IN\n",
       "9370        9371  Indianapolis    IN      200             0  Indianapolis, IN\n",
       "9005        9006  Indianapolis    IN      200             0  Indianapolis, IN\n",
       "9281        9282  Indianapolis    IN      199             0  Indianapolis, IN\n",
       "11843      11844  Indianapolis    IN      190             0  Indianapolis, IN\n",
       "8860        8861  Indianapolis    IN      175             0  Indianapolis, IN\n",
       "9448        9449  Indianapolis    IN      150             0  Indianapolis, IN\n",
       "8750        8751  Indianapolis    IN      150             0  Indianapolis, IN\n",
       "41833      41834  Indianapolis    IN      135             0  Indianapolis, IN\n",
       "9196        9197  Indianapolis    IN      125             0  Indianapolis, IN\n",
       "41524      41525  Indianapolis    IN      125             0  Indianapolis, IN\n",
       "40353      40354  Indianapolis    IN      125             0  Indianapolis, IN\n",
       "16326      16327  Indianapolis    IN      115             0  Indianapolis, IN\n",
       "9276        9277  Indianapolis    IN      108             0  Indianapolis, IN\n",
       "3624        3625  Indianapolis    IN      100             0  Indianapolis, IN\n",
       "39933      39934  Indianapolis    IN      100             0  Indianapolis, IN\n",
       "30130      30131  Indianapolis    IN      100             0  Indianapolis, IN\n",
       "5666        5667  Indianapolis    IN      100             0  Indianapolis, IN\n",
       "19428      19429  Indianapolis    IN       99             0  Indianapolis, IN\n",
       "13549      13550  Indianapolis    IN       90             0  Indianapolis, IN\n",
       "9398        9399  Indianapolis    IN       89             0  Indianapolis, IN\n",
       "35435      35436  Indianapolis    IN       79             0  Indianapolis, IN\n",
       "38285      38286  Indianapolis    IN       50             0  Indianapolis, IN\n",
       "41088      41089  Indianapolis    IN       50             0  Indianapolis, IN\n",
       "38257      38258  Indianapolis    IN       49             0  Indianapolis, IN\n",
       "36444      36445  Indianapolis    IN       49             0  Indianapolis, IN\n",
       "4613        4614  Indianapolis    IN       45             0  Indianapolis, IN\n",
       "\n",
       "[194 rows x 6 columns]"
      ]
     },
     "execution_count": 516,
     "metadata": {},
     "output_type": "execute_result"
    }
   ],
   "source": [
    "# looks like there are a bunch of expensive listings with no reviews\n",
    "just_indianapolis[just_indianapolis['# of Reviews'] == 0].sort_values(\"$ Price\", ascending=False)"
   ]
  },
  {
   "cell_type": "code",
   "execution_count": 524,
   "metadata": {
    "collapsed": false
   },
   "outputs": [
    {
     "data": {
      "text/plain": [
       "<seaborn.axisgrid.JointGrid at 0x7f8e9cc7dd10>"
      ]
     },
     "execution_count": 524,
     "metadata": {},
     "output_type": "execute_result"
    },
    {
     "data": {
      "image/png": "[encoded data removed]",
      "text/plain": [
       "<matplotlib.figure.Figure at 0x7f8e9c4a7390>"
      ]
     },
     "metadata": {},
     "output_type": "display_data"
    }
   ],
   "source": [
    "# looks like someone in Indianapolis is throwing up a bunch of super-expensive listings to make theirs seem more reasonable\n",
    "# let's try again but just include the listings with at least one review\n",
    "\n",
    "one_review = df[df['# of Reviews'] > 0]\n",
    "\n",
    "just_top_100_one_review = one_review[one_review['city_name'].isin(top_100_cities)]\n",
    "\n",
    "median_prices_one_review = just_top_100_one_review.groupby('city_name', as_index=False).median()[['city_name', '$ Price']]\n",
    "median_prices_one_review.columns = ['city_name', '$ Price >0 reviews']\n",
    "\n",
    "number_of_listings_one_review = just_top_100_one_review.groupby('city_name', as_index=False).count()[['city_name', 'City']]\n",
    "number_of_listings_one_review.columns = ['city_name', '# of Listings >0 reviews']\n",
    "\n",
    "# add these to the original table and sort again\n",
    "lots_of_info = number_of_listings.merge(median_prices, on=\"city_name\").merge(median_prices_one_review, on=\"city_name\").merge(number_of_listings_one_review, on=\"city_name\")\n",
    "sns.jointplot(x=\"# of Listings >0 reviews\", y=\"$ Price >0 reviews\", data=lots_of_info)"
   ]
  },
  {
   "cell_type": "code",
   "execution_count": 525,
   "metadata": {
    "collapsed": false
   },
   "outputs": [],
   "source": [
    "# that looks more reasonable, output another csv file\n",
    "lots_of_info[['city_name', '$ Price >0 reviews']].sort_values('$ Price >0 reviews', ascending=False).to_csv(\"medians_one_review.csv\", index = False)"
   ]
  },
  {
   "cell_type": "code",
   "execution_count": 527,
   "metadata": {
    "collapsed": false
   },
   "outputs": [
    {
     "data": {
      "text/plain": [
       "<matplotlib.axes._subplots.AxesSubplot at 0x7f8e9cd3db50>"
      ]
     },
     "execution_count": 527,
     "metadata": {},
     "output_type": "execute_result"
    },
    {
     "data": {
      "image/png": "[encoded data removed]",
      "text/plain": [
       "<matplotlib.figure.Figure at 0x7f8e9ca70f10>"
      ]
     },
     "metadata": {},
     "output_type": "display_data"
    }
   ],
   "source": [
    "# looks like median price for listings with at least one review is always lower\n",
    "# this makes sense, but let's check the delta:\n",
    "\n",
    "lots_of_info['median price delta'] = lots_of_info.apply(lambda x : x['$ Price'] - x['$ Price >0 reviews'], axis=1)\n",
    "sns.distplot(lots_of_info['median price delta'])"
   ]
  },
  {
   "cell_type": "code",
   "execution_count": 528,
   "metadata": {
    "collapsed": false
   },
   "outputs": [
    {
     "data": {
      "text/plain": [
       "<seaborn.axisgrid.JointGrid at 0x7f8e9d0c86d0>"
      ]
     },
     "execution_count": 528,
     "metadata": {},
     "output_type": "execute_result"
    },
    {
     "data": {
      "image/png": "[encoded data removed]",
      "text/plain": [
       "<matplotlib.figure.Figure at 0x7f8e9be93710>"
      ]
     },
     "metadata": {},
     "output_type": "display_data"
    }
   ],
   "source": [
    "# ok, seems like no other city has a big a price difference as Indianapolis, so probably all good\n",
    "\n",
    "# What's the general relationship between price and number of reviews?\n",
    "sns.jointplot(y=\"# of Reviews\", x= \"$ Price\", data=df, kind='reg', size=10)"
   ]
  },
  {
   "cell_type": "code",
   "execution_count": 529,
   "metadata": {
    "collapsed": false
   },
   "outputs": [
    {
     "data": {
      "text/html": [
       "<div>\n",
       "<table border=\"1\" class=\"dataframe\">\n",
       "  <thead>\n",
       "    <tr style=\"text-align: right;\">\n",
       "      <th></th>\n",
       "      <th>Unique id</th>\n",
       "      <th>City</th>\n",
       "      <th>State</th>\n",
       "      <th>$ Price</th>\n",
       "      <th># of Reviews</th>\n",
       "      <th>city_name</th>\n",
       "    </tr>\n",
       "  </thead>\n",
       "  <tbody>\n",
       "    <tr>\n",
       "      <th>2819</th>\n",
       "      <td>2820</td>\n",
       "      <td>San Francisco</td>\n",
       "      <td>CA</td>\n",
       "      <td>10000</td>\n",
       "      <td>31</td>\n",
       "      <td>San Francisco, CA</td>\n",
       "    </tr>\n",
       "    <tr>\n",
       "      <th>8867</th>\n",
       "      <td>8868</td>\n",
       "      <td>Park City</td>\n",
       "      <td>UT</td>\n",
       "      <td>10000</td>\n",
       "      <td>1</td>\n",
       "      <td>Park City, UT</td>\n",
       "    </tr>\n",
       "    <tr>\n",
       "      <th>26232</th>\n",
       "      <td>26233</td>\n",
       "      <td>Park City</td>\n",
       "      <td>UT</td>\n",
       "      <td>10000</td>\n",
       "      <td>0</td>\n",
       "      <td>Park City, UT</td>\n",
       "    </tr>\n",
       "    <tr>\n",
       "      <th>28626</th>\n",
       "      <td>28627</td>\n",
       "      <td>Miami Beach</td>\n",
       "      <td>FL</td>\n",
       "      <td>10000</td>\n",
       "      <td>0</td>\n",
       "      <td>Miami Beach, FL</td>\n",
       "    </tr>\n",
       "  </tbody>\n",
       "</table>\n",
       "</div>"
      ],
      "text/plain": [
       "       Unique id           City State  $ Price  # of Reviews  \\\n",
       "2819        2820  San Francisco    CA    10000            31   \n",
       "8867        8868      Park City    UT    10000             1   \n",
       "26232      26233      Park City    UT    10000             0   \n",
       "28626      28627    Miami Beach    FL    10000             0   \n",
       "\n",
       "               city_name  \n",
       "2819   San Francisco, CA  \n",
       "8867       Park City, UT  \n",
       "26232      Park City, UT  \n",
       "28626    Miami Beach, FL  "
      ]
     },
     "execution_count": 529,
     "metadata": {},
     "output_type": "execute_result"
    }
   ],
   "source": [
    "#convincingly negative, as expected. Let's look at some outliers\n",
    "# what are these 10000 listings?\n",
    "\n",
    "df[df['$ Price'] == 10000]\n",
    "# we need to look in a bit more detail at 2819, review padding?\n"
   ]
  },
  {
   "cell_type": "code",
   "execution_count": 532,
   "metadata": {
    "collapsed": false
   },
   "outputs": [
    {
     "name": "stdout",
     "output_type": "stream",
     "text": [
      "50 states in the geojson file\n",
      "34 states with at least one listing\n",
      "33 with at least one listing with at least one review\n"
     ]
    }
   ],
   "source": [
    "import json\n",
    "\n",
    "# now for some fun with maps\n",
    "# we want to colour the states by median price, but we'll need to first figure out what states are actually represented\n",
    "\n",
    "by_state = df.groupby('State', as_index=False).median()[['State', '$ Price']]\n",
    "valid_states = list(by_state['State'])\n",
    "\n",
    "by_state_one_review = one_review.groupby('State', as_index=False).median()[['State', '$ Price']]\n",
    "valid_states_one_review = list(by_state_one_review['State'])\n",
    "\n",
    "# we'll create custom geojson strings for the states that only contain the ones we want\n",
    "states = json.loads(open('us-states.json').read())\n",
    "\n",
    "print(str(len(states['features'])) + \" states in the geojson file\") \n",
    "for state in list(states['features']):\n",
    "    state_code = state['id']\n",
    "    if state_code not in valid_states:\n",
    "        states['features'].remove(state)\n",
    "print(str(len(states['features'])) + \" states with at least one listing\")\n",
    "\n",
    "\n",
    "states_one_review = json.loads(open('us-states.json').read())\n",
    "\n",
    "for state in list(states_one_review['features']):\n",
    "    state_code = state['id']\n",
    "    if state_code not in valid_states_one_review:\n",
    "        states_one_review['features'].remove(state)\n",
    "print(str(len(states_one_review['features'])) + \" with at least one listing with at least one review\")"
   ]
  },
  {
   "cell_type": "code",
   "execution_count": 567,
   "metadata": {
    "collapsed": false
   },
   "outputs": [],
   "source": [
    "import folium\n",
    "import pandas as pd\n",
    "\n",
    "# first let's colour the states by median price\n",
    "# we can see that IN is way high due to all those fake Indianapolis listings with 0 reviews\n",
    "map = folium.Map(location=[35, -102], zoom_start=4)\n",
    "map.choropleth(geo_str=states, data=by_state,\n",
    "             columns=['State', '$ Price'],\n",
    "             key_on='feature.id',\n",
    "            threshold_scale=[0, 100, 200, 300, 400, 500],\n",
    "             fill_color='YlOrRd', fill_opacity=0.7, line_opacity=0.2,\n",
    "             legend_name='Median price')\n",
    "\n",
    "map.save(\"states_median_price.html\")\n",
    "#map\n",
    "# hint: you can zoom/pan"
   ]
  },
  {
   "cell_type": "code",
   "execution_count": 568,
   "metadata": {
    "collapsed": false
   },
   "outputs": [],
   "source": [
    "# let's do the same but just for listings with at least one review\n",
    "# looks much better, note squeezed scale\n",
    "\n",
    "map = folium.Map(location=[35, -102], zoom_start=4)\n",
    "map.choropleth(geo_str=states_one_review, data=by_state_one_review,\n",
    "             columns=['State', '$ Price'],\n",
    "             key_on='feature.id',\n",
    "            threshold_scale=range(60, 150, 20),\n",
    "             fill_color='YlOrRd', fill_opacity=0.7, line_opacity=0.2,\n",
    "             legend_name='Median price')\n",
    "map.save(\"state_median_price_one_review.html\")\n",
    "#map"
   ]
  },
  {
   "cell_type": "code",
   "execution_count": null,
   "metadata": {
    "collapsed": false
   },
   "outputs": [],
   "source": [
    "from geopy.geocoders import Nominatim\n",
    "\n",
    "# we'd like to look at the city level, but we don't have location data so we need to look it up\n",
    "# let's build a dict mapping cities to locations using the openstreetmap geocoding api\n",
    "# this will avoid us having to look up the location for the same city multiple times\n",
    "\n",
    "geolocator = Nominatim()\n",
    "city2location = {}\n",
    "for city in set(df['city_name']):\n",
    "    print(city)\n",
    "    city2location[city] = geolocator.geocode(city)"
   ]
  },
  {
   "cell_type": "code",
   "execution_count": 546,
   "metadata": {
    "collapsed": false
   },
   "outputs": [],
   "source": [
    "# use the coordinates lookup table to add lat/long columns to the table\n",
    "df['lat'] = df.apply(lambda x : city2location[x['city_name']].latitude, axis=1)\n",
    "df['long'] = df.apply(lambda x : city2location[x['city_name']].longitude, axis=1)\n"
   ]
  },
  {
   "cell_type": "code",
   "execution_count": 569,
   "metadata": {
    "collapsed": false
   },
   "outputs": [],
   "source": [
    "# let's try a heat map. red == more listings\n",
    "\n",
    "from folium import plugins\n",
    "\n",
    "locations = zip(list(df['lat']), list(df['long']))\n",
    "\n",
    "map = folium.Map(location=[35, -102], zoom_start=4)\n",
    "map.add_children(plugins.HeatMap(locations))\n",
    "\n",
    "map.save(\"listings_heatmap.html\")\n",
    "#map\n",
    "\n",
    "# this is kind of cool; as you zoom in the heatmap gets more fine grained"
   ]
  },
  {
   "cell_type": "code",
   "execution_count": 571,
   "metadata": {
    "collapsed": false
   },
   "outputs": [],
   "source": [
    "# let's do a city visualization\n",
    "# take the by-city table and add locations\n",
    "\n",
    "by_city = df.groupby('city_name', as_index=False).median()\n",
    "number_of_listings = df.groupby('city_name', as_index=False).count()[['city_name', 'City']]\n",
    "number_of_listings.columns = ['city_name', '# of Listings']\n",
    "by_city = by_city.merge(number_of_listings, on=\"city_name\")\n",
    "\n",
    "\n",
    "map = folium.Map(location=[35, -102], zoom_start=4)\n",
    "\n",
    "# now plot markers (click for city names and numbers of listings)\n",
    "for each in by_city.iterrows(): \n",
    "    popup = each[1]['city_name'] + \" : \" + str(each[1]['# of Listings']) + \" listings\"\n",
    "    marker = folium.Marker([each[1]['lat'], each[1]['long']], popup=popup)\n",
    "    map.add_children(marker)\n",
    "map.save(\"cities_popup.html\")\n",
    "#map"
   ]
  },
  {
   "cell_type": "code",
   "execution_count": 572,
   "metadata": {
    "collapsed": false
   },
   "outputs": [],
   "source": [
    "import math\n",
    "import matplotlib\n",
    "import matplotlib.cm as cm\n",
    "\n",
    "# finally, a more ambitions visualization\n",
    "# draw cities as circles\n",
    "# area is number of listings, colour is median price (darker == more expensive)\n",
    "\n",
    "# skip Indianapolis this time as it throws the colour scale out\n",
    "not_indianapolis = by_city[by_city['city_name'] != 'Indianapolis, IN']\n",
    "\n",
    "# set up a colour map for the median price\n",
    "norm = matplotlib.colors.Normalize(vmin=not_indianapolis['$ Price'].min(), vmax=not_indianapolis['$ Price'].max(), clip=True)\n",
    "mapper = cm.ScalarMappable(norm=norm, cmap=cm.OrRd)\n",
    "\n",
    "map = folium.Map(location=[35, -102], zoom_start=4)\n",
    "\n",
    "\n",
    "for each in not_indianapolis.iterrows(): \n",
    "    city = each[1]\n",
    "    popup = city['city_name'] + \" : \" + str(city['# of Listings']) + \" listings\"\n",
    "    fill = mapper.to_rgba(city['$ Price'])\n",
    "    fill_hex = matplotlib.colors.rgb2hex(fill)\n",
    "    \n",
    "    marker = folium.CircleMarker(\n",
    "        [city['lat'], city['long']], \n",
    "        radius = math.sqrt(city['# of Listings'] * 10000000),\n",
    "        popup=popup,\n",
    "        fill_opacity=0.9,\n",
    "        color = \"00000000\",\n",
    "        fill_color = fill_hex\n",
    "    )\n",
    "    map.add_children(marker)\n",
    "map.save(\"cities_circles.html\")\n",
    "#map\n"
   ]
  },
  {
   "cell_type": "code",
   "execution_count": 566,
   "metadata": {
    "collapsed": false
   },
   "outputs": [
    {
     "data": {
      "text/plain": [
       "123.5"
      ]
     },
     "execution_count": 566,
     "metadata": {},
     "output_type": "execute_result"
    }
   ],
   "source": [
    "df[df['city_name'] == 'Anchorage, AK']['$ Price'].median()"
   ]
  }
 ],
 "metadata": {
  "kernelspec": {
   "display_name": "Python 2",
   "language": "python",
   "name": "python2"
  },
  "language_info": {
   "codemirror_mode": {
    "name": "ipython",
    "version": 2
   },
   "file_extension": ".py",
   "mimetype": "text/x-python",
   "name": "python",
   "nbconvert_exporter": "python",
   "pygments_lexer": "ipython2",
   "version": "2.7.6"
  }
 },
 "nbformat": 4,
 "nbformat_minor": 0
}
